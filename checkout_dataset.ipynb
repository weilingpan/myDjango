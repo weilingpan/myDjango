{
 "cells": [
  {
   "cell_type": "code",
   "execution_count": 21,
   "id": "bdcf18a3-fbc1-406f-8b74-59487bf5802c",
   "metadata": {},
   "outputs": [],
   "source": [
    "import sqlite3\n",
    "import pandas as pd\n",
    "\n",
    "connection = sqlite3.connect('example.db')\n",
    "cur = connection.cursor()"
   ]
  },
  {
   "cell_type": "code",
   "execution_count": 12,
   "id": "c0e667c7-c504-4c83-a940-9f95ad532a6a",
   "metadata": {},
   "outputs": [
    {
     "data": {
      "text/html": [
       "<div>\n",
       "<style scoped>\n",
       "    .dataframe tbody tr th:only-of-type {\n",
       "        vertical-align: middle;\n",
       "    }\n",
       "\n",
       "    .dataframe tbody tr th {\n",
       "        vertical-align: top;\n",
       "    }\n",
       "\n",
       "    .dataframe thead th {\n",
       "        text-align: right;\n",
       "    }\n",
       "</style>\n",
       "<table border=\"1\" class=\"dataframe\">\n",
       "  <thead>\n",
       "    <tr style=\"text-align: right;\">\n",
       "      <th></th>\n",
       "      <th>Size</th>\n",
       "      <th>Date</th>\n",
       "      <th>Time</th>\n",
       "      <th>HDFS Path</th>\n",
       "      <th>version</th>\n",
       "      <th>dataset_name</th>\n",
       "      <th>project_token</th>\n",
       "    </tr>\n",
       "  </thead>\n",
       "  <tbody>\n",
       "    <tr>\n",
       "      <th>0</th>\n",
       "      <td>123</td>\n",
       "      <td>2024-07-01</td>\n",
       "      <td>13:00</td>\n",
       "      <td>Test/project_token/dataset_name/1/file_name</td>\n",
       "      <td>1</td>\n",
       "      <td>file_name</td>\n",
       "      <td>project_token</td>\n",
       "    </tr>\n",
       "    <tr>\n",
       "      <th>1</th>\n",
       "      <td>456</td>\n",
       "      <td>2024-07-01</td>\n",
       "      <td>14:00</td>\n",
       "      <td>Test/project_token/dataset_name/2/file_name2</td>\n",
       "      <td>2</td>\n",
       "      <td>file_name</td>\n",
       "      <td>project_token</td>\n",
       "    </tr>\n",
       "    <tr>\n",
       "      <th>2</th>\n",
       "      <td>789</td>\n",
       "      <td>2024-07-01</td>\n",
       "      <td>15:00</td>\n",
       "      <td>Test/project_token/dataset_name/1/file_name2</td>\n",
       "      <td>1</td>\n",
       "      <td>file_name2</td>\n",
       "      <td>project_token</td>\n",
       "    </tr>\n",
       "  </tbody>\n",
       "</table>\n",
       "</div>"
      ],
      "text/plain": [
       "  Size        Date   Time                                     HDFS Path  \\\n",
       "0  123  2024-07-01  13:00   Test/project_token/dataset_name/1/file_name   \n",
       "1  456  2024-07-01  14:00  Test/project_token/dataset_name/2/file_name2   \n",
       "2  789  2024-07-01  15:00  Test/project_token/dataset_name/1/file_name2   \n",
       "\n",
       "   version dataset_name  project_token  \n",
       "0        1    file_name  project_token  \n",
       "1        2    file_name  project_token  \n",
       "2        1   file_name2  project_token  "
      ]
     },
     "execution_count": 12,
     "metadata": {},
     "output_type": "execute_result"
    }
   ],
   "source": [
    "data = {\n",
    "    'Size': ['123', '456', '789'],\n",
    "    'Date': ['2024-07-01','2024-07-01','2024-07-01'],\n",
    "    'Time': ['13:00','14:00','15:00'],\n",
    "    'HDFS Path': ['Test/project_token/dataset_name/1/file_name', \n",
    "                  'Test/project_token/dataset_name/2/file_name',\n",
    "                 'Test/project_token/dataset_name/1/file_name2'],\n",
    "    'version': [1, 2, 1],\n",
    "    'dataset_name': ['file_name', 'file_name', 'file_name2'],\n",
    "    'project_token': ['project_token', 'project_token', 'project_token']\n",
    "}\n",
    "df = pd.DataFrame(data)\n",
    "df"
   ]
  },
  {
   "cell_type": "code",
   "execution_count": 19,
   "id": "e38fa0da-5f9a-4074-8624-bf8577279165",
   "metadata": {},
   "outputs": [
    {
     "name": "stdout",
     "output_type": "stream",
     "text": [
      "select * from public.dataset_version where path = 'Test/project_token/dataset_name/1/file_name'\n",
      "select * from public.dataset_version where path = 'Test/project_token/dataset_name/1/file_name2'\n",
      "select * from public.dataset_version where path = 'Test/project_token/dataset_name/2/file_name2'\n"
     ]
    }
   ],
   "source": [
    "# by project, by dataset, by version 檢查\n",
    "filter_df = df.sort_values(by=\"HDFS Path\")\n",
    "\n",
    "for index, row in filter_df.iterrows():\n",
    "    \n",
    "    path = row[\"HDFS Path\"]\n",
    "    checkout_dataset_version_exist_sql = f\"select * from public.dataset_version where path = '{path}'\"\n",
    "    cur.execute(checkout_dataset_version_exist_sql)\n",
    "    result = cursor.fetchone()\n",
    "    \n",
    "    if result: #有資料\n",
    "        pass\n",
    "    else:\n",
    "        version = row.version\n",
    "        project_token = row.project_token\n",
    "        dataset_name = row.dataset_name\n",
    "        \n",
    "        check_projet_token_exist_sql = f\"select * from public.tokens where token = '{project_token}'\"\n",
    "        cur.execute(check_projet_token_exist_sql)\n",
    "        result = cursor.fetchone()\n",
    "        if version == 1 and result: # project_token 已經註冊, 但還沒有 dataset_name & version 1\n",
    "            # insert version1 to dataset\n",
    "            # insert version1 to dataset_access\n",
    "            # insert version1 to dataset_version\n",
    "        if version > 1 and result: # # project_token 已經註冊, 但出現 dataset_name version > 1\n",
    "            get_dataset_token_sql = f\"select datasetToken from public.dataset where owner = '{project_token}' and name = {'dataset_name'}\"\n",
    "            cur.execute(get_dataset_token_sql)\n",
    "            result_datasetToken = cursor.fetchone()\n",
    "            if result_datasetToken: # 找得到 dataset_token\n",
    "                dataset_token = result_datasetToken[0]\n",
    "                # insert version2 to dataset_version\n",
    "            else:\n",
    "                if version == 2:\n",
    "                # insert version1 to dataset\n",
    "                # insert version1 to dataset_access\n",
    "                # insert version1 to dataset_version\n",
    "    \n",
    "    \n",
    "    connection.close()"
   ]
  }
 ],
 "metadata": {
  "kernelspec": {
   "display_name": "Python 3 (ipykernel)",
   "language": "python",
   "name": "python3"
  },
  "language_info": {
   "codemirror_mode": {
    "name": "ipython",
    "version": 3
   },
   "file_extension": ".py",
   "mimetype": "text/x-python",
   "name": "python",
   "nbconvert_exporter": "python",
   "pygments_lexer": "ipython3",
   "version": "3.9.13"
  }
 },
 "nbformat": 4,
 "nbformat_minor": 5
}
